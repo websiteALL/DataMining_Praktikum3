{
 "cells": [
  {
   "cell_type": "code",
   "execution_count": 1,
   "id": "32f2cc10-4788-4588-b98b-fa8bd13877e5",
   "metadata": {},
   "outputs": [
    {
     "name": "stdout",
     "output_type": "stream",
     "text": [
      "Defaulting to user installation because normal site-packages is not writeable\n",
      "Looking in links: /usr/share/pip-wheels\n",
      "Collecting Sastrawi\n",
      "  Obtaining dependency information for Sastrawi from https://files.pythonhosted.org/packages/6f/4b/bab676953da3103003730b8fcdfadbdd20f333d4add10af949dd5c51e6ed/Sastrawi-1.0.1-py2.py3-none-any.whl.metadata\n",
      "  Downloading Sastrawi-1.0.1-py2.py3-none-any.whl.metadata (909 bytes)\n",
      "Downloading Sastrawi-1.0.1-py2.py3-none-any.whl (209 kB)\n",
      "\u001b[2K   \u001b[38;5;70m━━━━━━━━━━━━━━━━━━━━━━━━━━━━━━━━━━━━━━━━\u001b[0m \u001b[32m209.7/209.7 kB\u001b[0m \u001b[31m3.1 MB/s\u001b[0m eta \u001b[36m0:00:00\u001b[0m \u001b[36m0:00:01\u001b[0m\n",
      "\u001b[?25hInstalling collected packages: Sastrawi\n",
      "Successfully installed Sastrawi-1.0.1\n"
     ]
    }
   ],
   "source": [
    "!pip install Sastrawi"
   ]
  },
  {
   "cell_type": "code",
   "execution_count": 7,
   "id": "886824cd-c06a-40fb-b904-c5c86a0b69bd",
   "metadata": {
    "scrolled": true
   },
   "outputs": [
    {
     "name": "stdout",
     "output_type": "stream",
     "text": [
      "Case Folding1 : barang sesuai harapan, cakep dan mulus. penjualnya juga baik dan ramah. overall, puas banget belanja disini.\n",
      "Case Folding2 : sesuai pesanan. sayangnya pengiriman agak telat.\n",
      "Case Folding3 : puas banget belanja di sini. barang ok dan harga juga sesuai kantong. sip deh.\n",
      "token:\n",
      "['puas', 'banget', 'belanja', 'di', 'sini', 'barang', 'ok', 'dan', 'harga', 'juga', 'sesuai', 'kantong', 'sip', 'deh']\n",
      "Hasil Stremming:\n",
      "puas banget belanja di sini barang ok dan harga juga sesuai kantong sip deh\n",
      "Hasil Setelah Stopword Removal:\n",
      "['puas', 'banget', 'belanja', 'sini', 'barang', 'harga', 'sesuai', 'kantong', 'sip', 'deh']\n"
     ]
    }
   ],
   "source": [
    "dokumen1=\"Barang sesuai harapan, cakep dan mulus. Penjualnya juga baik dan ramah. Overall, puas banget belanja disini.\"\n",
    "dokumen2=\"Sesuai Pesanan. Sayangnya pengiriman agak telat.\"\n",
    "dokumen3=\"Puas banget belanja di sini. Barang ok dan harga juga sesuai kantong. Sip deh.\"\n",
    "#Case Folding\n",
    "hasil_cf1 = str.lower(dokumen1)\n",
    "hasil_cf2 = str.lower(dokumen2)\n",
    "hasil_cf3 = str.lower(dokumen3)\n",
    "print(\"Case Folding1 : \"+hasil_cf1);\n",
    "print(\"Case Folding2 : \"+hasil_cf2);\n",
    "print(\"Case Folding3 : \"+hasil_cf3);\n",
    "\n",
    "\n",
    "#Tokenizing\n",
    "from nltk.tokenize import RegexpTokenizer\n",
    "tokenizer        = RegexpTokenizer(r'\\w+')\n",
    "hasil_token      = tokenizer.tokenize(hasil_cf)\n",
    "print(\"token:\")\n",
    "print(hasil_token)\n",
    "\n",
    "# Steaming\n",
    "from Sastrawi.Stemmer.StemmerFactory import StemmerFactory\n",
    "factory       = StemmerFactory()\n",
    "stemmer       = factory.create_stemmer()\n",
    "input_stemm   = str(hasil_token)\n",
    "hasil_stemm   = stemmer.stem(input_stemm)\n",
    "print(\"Hasil Stremming:\")\n",
    "print(hasil_stemm)\n",
    "\n",
    "#Filtering\n",
    "#Tokenisiasi ulang hasil stemming\n",
    "token_stemm = tokenizer.tokenize(hasil_stemm)\n",
    "\n",
    "# Ambil daftar stopwords\n",
    "from Sastrawi.StopWordRemover.StopWordRemoverFactory import StopWordRemoverFactory\n",
    "stop_factory = StopWordRemoverFactory()\n",
    "stopwords = stop_factory.get_stop_words()\n",
    "\n",
    "# Hapus stopwords dari hasil stemming\n",
    "hasil_final = [word for word in token_stemm if word not in stopwords]\n",
    "print(\"Hasil Setelah Stopword Removal:\")\n",
    "print(hasil_final)"
   ]
  },
  {
   "cell_type": "code",
   "execution_count": null,
   "id": "3c41c5b8-6c2a-4e06-a092-71f78de8e09c",
   "metadata": {},
   "outputs": [],
   "source": []
  }
 ],
 "metadata": {
  "kernelspec": {
   "display_name": "anaconda-panel-2023.05-py310",
   "language": "python",
   "name": "conda-env-anaconda-panel-2023.05-py310-py"
  },
  "language_info": {
   "codemirror_mode": {
    "name": "ipython",
    "version": 3
   },
   "file_extension": ".py",
   "mimetype": "text/x-python",
   "name": "python",
   "nbconvert_exporter": "python",
   "pygments_lexer": "ipython3",
   "version": "3.11.5"
  }
 },
 "nbformat": 4,
 "nbformat_minor": 5
}
